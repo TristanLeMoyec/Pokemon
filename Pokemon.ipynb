{
 "cells": [
  {
   "cell_type": "code",
   "execution_count": 1,
   "id": "85763cbe",
   "metadata": {},
   "outputs": [],
   "source": [
    "import pandas as pd\n",
    "import seaborn as sns\n",
    "import matplotlib.pyplot as plt"
   ]
  },
  {
   "cell_type": "code",
   "execution_count": 2,
   "id": "7f29e0aa",
   "metadata": {},
   "outputs": [],
   "source": [
    "df=pd.read_csv('Pokemon.csv')"
   ]
  },
  {
   "cell_type": "code",
   "execution_count": 3,
   "id": "c44a0075",
   "metadata": {
    "scrolled": true
   },
   "outputs": [
    {
     "data": {
      "text/html": [
       "<div>\n",
       "<style scoped>\n",
       "    .dataframe tbody tr th:only-of-type {\n",
       "        vertical-align: middle;\n",
       "    }\n",
       "\n",
       "    .dataframe tbody tr th {\n",
       "        vertical-align: top;\n",
       "    }\n",
       "\n",
       "    .dataframe thead th {\n",
       "        text-align: right;\n",
       "    }\n",
       "</style>\n",
       "<table border=\"1\" class=\"dataframe\">\n",
       "  <thead>\n",
       "    <tr style=\"text-align: right;\">\n",
       "      <th></th>\n",
       "      <th>#</th>\n",
       "      <th>Name</th>\n",
       "      <th>Type 1</th>\n",
       "      <th>Type 2</th>\n",
       "      <th>Total</th>\n",
       "      <th>HP</th>\n",
       "      <th>Attack</th>\n",
       "      <th>Defense</th>\n",
       "      <th>Sp. Atk</th>\n",
       "      <th>Sp. Def</th>\n",
       "      <th>Speed</th>\n",
       "      <th>Generation</th>\n",
       "      <th>Legendary</th>\n",
       "    </tr>\n",
       "  </thead>\n",
       "  <tbody>\n",
       "    <tr>\n",
       "      <th>0</th>\n",
       "      <td>1</td>\n",
       "      <td>Bulbasaur</td>\n",
       "      <td>Grass</td>\n",
       "      <td>Poison</td>\n",
       "      <td>318</td>\n",
       "      <td>45</td>\n",
       "      <td>49</td>\n",
       "      <td>49</td>\n",
       "      <td>65</td>\n",
       "      <td>65</td>\n",
       "      <td>45</td>\n",
       "      <td>1</td>\n",
       "      <td>False</td>\n",
       "    </tr>\n",
       "    <tr>\n",
       "      <th>1</th>\n",
       "      <td>2</td>\n",
       "      <td>Ivysaur</td>\n",
       "      <td>Grass</td>\n",
       "      <td>Poison</td>\n",
       "      <td>405</td>\n",
       "      <td>60</td>\n",
       "      <td>62</td>\n",
       "      <td>63</td>\n",
       "      <td>80</td>\n",
       "      <td>80</td>\n",
       "      <td>60</td>\n",
       "      <td>1</td>\n",
       "      <td>False</td>\n",
       "    </tr>\n",
       "    <tr>\n",
       "      <th>2</th>\n",
       "      <td>3</td>\n",
       "      <td>Venusaur</td>\n",
       "      <td>Grass</td>\n",
       "      <td>Poison</td>\n",
       "      <td>525</td>\n",
       "      <td>80</td>\n",
       "      <td>82</td>\n",
       "      <td>83</td>\n",
       "      <td>100</td>\n",
       "      <td>100</td>\n",
       "      <td>80</td>\n",
       "      <td>1</td>\n",
       "      <td>False</td>\n",
       "    </tr>\n",
       "    <tr>\n",
       "      <th>3</th>\n",
       "      <td>3</td>\n",
       "      <td>VenusaurMega Venusaur</td>\n",
       "      <td>Grass</td>\n",
       "      <td>Poison</td>\n",
       "      <td>625</td>\n",
       "      <td>80</td>\n",
       "      <td>100</td>\n",
       "      <td>123</td>\n",
       "      <td>122</td>\n",
       "      <td>120</td>\n",
       "      <td>80</td>\n",
       "      <td>1</td>\n",
       "      <td>False</td>\n",
       "    </tr>\n",
       "    <tr>\n",
       "      <th>4</th>\n",
       "      <td>4</td>\n",
       "      <td>Charmander</td>\n",
       "      <td>Fire</td>\n",
       "      <td>NaN</td>\n",
       "      <td>309</td>\n",
       "      <td>39</td>\n",
       "      <td>52</td>\n",
       "      <td>43</td>\n",
       "      <td>60</td>\n",
       "      <td>50</td>\n",
       "      <td>65</td>\n",
       "      <td>1</td>\n",
       "      <td>False</td>\n",
       "    </tr>\n",
       "    <tr>\n",
       "      <th>...</th>\n",
       "      <td>...</td>\n",
       "      <td>...</td>\n",
       "      <td>...</td>\n",
       "      <td>...</td>\n",
       "      <td>...</td>\n",
       "      <td>...</td>\n",
       "      <td>...</td>\n",
       "      <td>...</td>\n",
       "      <td>...</td>\n",
       "      <td>...</td>\n",
       "      <td>...</td>\n",
       "      <td>...</td>\n",
       "      <td>...</td>\n",
       "    </tr>\n",
       "    <tr>\n",
       "      <th>795</th>\n",
       "      <td>719</td>\n",
       "      <td>Diancie</td>\n",
       "      <td>Rock</td>\n",
       "      <td>Fairy</td>\n",
       "      <td>600</td>\n",
       "      <td>50</td>\n",
       "      <td>100</td>\n",
       "      <td>150</td>\n",
       "      <td>100</td>\n",
       "      <td>150</td>\n",
       "      <td>50</td>\n",
       "      <td>6</td>\n",
       "      <td>True</td>\n",
       "    </tr>\n",
       "    <tr>\n",
       "      <th>796</th>\n",
       "      <td>719</td>\n",
       "      <td>DiancieMega Diancie</td>\n",
       "      <td>Rock</td>\n",
       "      <td>Fairy</td>\n",
       "      <td>700</td>\n",
       "      <td>50</td>\n",
       "      <td>160</td>\n",
       "      <td>110</td>\n",
       "      <td>160</td>\n",
       "      <td>110</td>\n",
       "      <td>110</td>\n",
       "      <td>6</td>\n",
       "      <td>True</td>\n",
       "    </tr>\n",
       "    <tr>\n",
       "      <th>797</th>\n",
       "      <td>720</td>\n",
       "      <td>HoopaHoopa Confined</td>\n",
       "      <td>Psychic</td>\n",
       "      <td>Ghost</td>\n",
       "      <td>600</td>\n",
       "      <td>80</td>\n",
       "      <td>110</td>\n",
       "      <td>60</td>\n",
       "      <td>150</td>\n",
       "      <td>130</td>\n",
       "      <td>70</td>\n",
       "      <td>6</td>\n",
       "      <td>True</td>\n",
       "    </tr>\n",
       "    <tr>\n",
       "      <th>798</th>\n",
       "      <td>720</td>\n",
       "      <td>HoopaHoopa Unbound</td>\n",
       "      <td>Psychic</td>\n",
       "      <td>Dark</td>\n",
       "      <td>680</td>\n",
       "      <td>80</td>\n",
       "      <td>160</td>\n",
       "      <td>60</td>\n",
       "      <td>170</td>\n",
       "      <td>130</td>\n",
       "      <td>80</td>\n",
       "      <td>6</td>\n",
       "      <td>True</td>\n",
       "    </tr>\n",
       "    <tr>\n",
       "      <th>799</th>\n",
       "      <td>721</td>\n",
       "      <td>Volcanion</td>\n",
       "      <td>Fire</td>\n",
       "      <td>Water</td>\n",
       "      <td>600</td>\n",
       "      <td>80</td>\n",
       "      <td>110</td>\n",
       "      <td>120</td>\n",
       "      <td>130</td>\n",
       "      <td>90</td>\n",
       "      <td>70</td>\n",
       "      <td>6</td>\n",
       "      <td>True</td>\n",
       "    </tr>\n",
       "  </tbody>\n",
       "</table>\n",
       "<p>800 rows × 13 columns</p>\n",
       "</div>"
      ],
      "text/plain": [
       "       #                   Name   Type 1  Type 2  Total  HP  Attack  Defense  \\\n",
       "0      1              Bulbasaur    Grass  Poison    318  45      49       49   \n",
       "1      2                Ivysaur    Grass  Poison    405  60      62       63   \n",
       "2      3               Venusaur    Grass  Poison    525  80      82       83   \n",
       "3      3  VenusaurMega Venusaur    Grass  Poison    625  80     100      123   \n",
       "4      4             Charmander     Fire     NaN    309  39      52       43   \n",
       "..   ...                    ...      ...     ...    ...  ..     ...      ...   \n",
       "795  719                Diancie     Rock   Fairy    600  50     100      150   \n",
       "796  719    DiancieMega Diancie     Rock   Fairy    700  50     160      110   \n",
       "797  720    HoopaHoopa Confined  Psychic   Ghost    600  80     110       60   \n",
       "798  720     HoopaHoopa Unbound  Psychic    Dark    680  80     160       60   \n",
       "799  721              Volcanion     Fire   Water    600  80     110      120   \n",
       "\n",
       "     Sp. Atk  Sp. Def  Speed  Generation  Legendary  \n",
       "0         65       65     45           1      False  \n",
       "1         80       80     60           1      False  \n",
       "2        100      100     80           1      False  \n",
       "3        122      120     80           1      False  \n",
       "4         60       50     65           1      False  \n",
       "..       ...      ...    ...         ...        ...  \n",
       "795      100      150     50           6       True  \n",
       "796      160      110    110           6       True  \n",
       "797      150      130     70           6       True  \n",
       "798      170      130     80           6       True  \n",
       "799      130       90     70           6       True  \n",
       "\n",
       "[800 rows x 13 columns]"
      ]
     },
     "execution_count": 3,
     "metadata": {},
     "output_type": "execute_result"
    }
   ],
   "source": [
    "df"
   ]
  },
  {
   "cell_type": "code",
   "execution_count": 4,
   "id": "ab1c5580",
   "metadata": {},
   "outputs": [
    {
     "ename": "SyntaxError",
     "evalue": "invalid syntax (2906826500.py, line 1)",
     "output_type": "error",
     "traceback": [
      "\u001b[1;36m  File \u001b[1;32m\"C:\\Users\\Simplon\\AppData\\Local\\Temp\\ipykernel_9784\\2906826500.py\"\u001b[1;36m, line \u001b[1;32m1\u001b[0m\n\u001b[1;33m    colors = {'Grass': 'green', 'Fire': 'red', 'Water': 'blue', ...}\u001b[0m\n\u001b[1;37m                                                                   ^\u001b[0m\n\u001b[1;31mSyntaxError\u001b[0m\u001b[1;31m:\u001b[0m invalid syntax\n"
     ]
    }
   ],
   "source": [
    "colors = {'Grass': 'green', 'Fire': 'red', 'Water': 'blue', ...}\n",
    "df['Type 1'].value_counts()[:5].plot(kind='bar', color=[colors[x] for x in df['Type 1'].value_counts()[:5].index])\n"
   ]
  },
  {
   "cell_type": "code",
   "execution_count": null,
   "id": "7fec6cbe",
   "metadata": {},
   "outputs": [],
   "source": [
    "colors = {'Normal': 'saddlebrown', 'Grass': 'green', 'Water': 'blue'}\n",
    "df['Type 1'].value_counts()[:3].plot(kind='bar', color=[colors[x] for x in df['Type 1'].value_counts()[:3].index])"
   ]
  },
  {
   "cell_type": "code",
   "execution_count": null,
   "id": "a3507cc9",
   "metadata": {
    "scrolled": true
   },
   "outputs": [],
   "source": [
    "df['Type 1'].value_counts(ascending=True)[:10].plot(kind='bar')"
   ]
  },
  {
   "cell_type": "code",
   "execution_count": null,
   "id": "cf6035f6",
   "metadata": {},
   "outputs": [],
   "source": [
    "df['Type 1'].value_counts()"
   ]
  },
  {
   "cell_type": "code",
   "execution_count": null,
   "id": "f392cf12",
   "metadata": {},
   "outputs": [],
   "source": [
    "colors = {'Water': 'darkblue',\n",
    "          'Normal': 'gray',\n",
    "          'Grass': 'darkgreen',\n",
    "         'Bug': 'olive',\n",
    "          'Psychic': 'crimson',\n",
    "          'Fire': 'orangered',\n",
    "         'Electric': 'gold',\n",
    "          'Rock': 'darkkhaki',\n",
    "          'Dragon': 'rebeccapurple',\n",
    "         'Ground': 'darkgoldenrod',\n",
    "          'Ghost': 'midnightblue',\n",
    "          'Poison': 'purple',\n",
    "         'Steel': 'slategray',\n",
    "          'Fighting': 'saddlebrown',\n",
    "          'Ice': 'lightblue',\n",
    "         'Fairy': 'pink',\n",
    "          'Flying': 'lightseagreen',\n",
    "         'Dark': 'black'}"
   ]
  },
  {
   "cell_type": "code",
   "execution_count": null,
   "id": "8b2f01a9",
   "metadata": {},
   "outputs": [],
   "source": [
    "df['color'] = df['Type 1'].map(colors)"
   ]
  },
  {
   "cell_type": "code",
   "execution_count": null,
   "id": "a1c82786",
   "metadata": {},
   "outputs": [],
   "source": [
    "top = 15"
   ]
  },
  {
   "cell_type": "code",
   "execution_count": null,
   "id": "a2ed9aa3",
   "metadata": {},
   "outputs": [],
   "source": [
    "#TOP\n",
    "df['Type 1'].value_counts()[:top].plot(kind='bar', color=[colors[x] for x in df['Type 1'].value_counts()[:top].index])"
   ]
  },
  {
   "cell_type": "code",
   "execution_count": null,
   "id": "d35f0a62",
   "metadata": {},
   "outputs": [],
   "source": [
    "#FLOP\n",
    "df['Type 1'].value_counts()[top:].plot(kind='bar', color=[colors[x] for x in df['Type 1'].value_counts()[top:].index])"
   ]
  },
  {
   "cell_type": "code",
   "execution_count": null,
   "id": "80002509",
   "metadata": {},
   "outputs": [],
   "source": [
    "#Les n pokemons les plus puissants (total des stats)\n",
    "n=10\n",
    "df[['Name','Total']].sort_values('Total', ascending=False).head(n)"
   ]
  },
  {
   "cell_type": "code",
   "execution_count": null,
   "id": "82634211",
   "metadata": {},
   "outputs": [],
   "source": [
    "# Group the data by generation and calculate the mean of the total column for each group\n",
    "mean_total_by_generation = df.groupby('Generation')['Total'].mean()\n",
    "\n",
    "# Create a line plot of the mean total values for each generation\n",
    "plt.plot(mean_total_by_generation)\n",
    "plt.xlabel('Generation')\n",
    "plt.ylabel('Mean Total')\n",
    "plt.title('Evolution of Mean Total per Generation')\n",
    "plt.show()"
   ]
  },
  {
   "cell_type": "code",
   "execution_count": null,
   "id": "1076f4a7",
   "metadata": {},
   "outputs": [],
   "source": [
    "# Group the data by generation and calculate the mean of the total column for each group\n",
    "mean_total_by_generation = df.groupby('Generation')['Attack'].mean()\n",
    "\n",
    "# Create a line plot of the mean total values for each generation\n",
    "plt.plot(mean_total_by_generation)\n",
    "plt.xlabel('Generation')\n",
    "plt.ylabel('Mean Attack')\n",
    "plt.title('Evolution of Mean Total per Generation')\n",
    "plt.show()"
   ]
  },
  {
   "cell_type": "code",
   "execution_count": null,
   "id": "faad55ba",
   "metadata": {},
   "outputs": [],
   "source": [
    "# Group the data by generation and count the number of rows in each group\n",
    "counts_by_generation = df.groupby('Generation').size()\n",
    "\n",
    "# Create a bar chart of the number of Pokemon for each generation\n",
    "counts_by_generation.plot(kind='bar')\n",
    "plt.xlabel('Generation')\n",
    "plt.ylabel('Number of Pokemon')\n",
    "plt.title('Number of Pokemon per Generation')\n",
    "plt.show()\n"
   ]
  },
  {
   "cell_type": "code",
   "execution_count": null,
   "id": "b58f3125",
   "metadata": {},
   "outputs": [],
   "source": [
    "#Les n pokemons les plus puissants (total des stats)\n",
    "n=10\n",
    "generation = 1\n",
    "df[['Name','Total']].loc[df['Generation']==generation].sort_values('Total', ascending=False).head(n)"
   ]
  },
  {
   "cell_type": "code",
   "execution_count": null,
   "id": "9acb7dc5",
   "metadata": {},
   "outputs": [],
   "source": [
    "# Libraries\n",
    "import matplotlib.pyplot as plt\n",
    "import pandas as pd\n",
    "from math import pi"
   ]
  },
  {
   "cell_type": "code",
   "execution_count": null,
   "id": "3a193628",
   "metadata": {},
   "outputs": [],
   "source": [
    "import plotly.express as px\n",
    "import numpy as np\n",
    "import plotly.graph_objects as go"
   ]
  },
  {
   "cell_type": "code",
   "execution_count": null,
   "id": "4da18a71",
   "metadata": {},
   "outputs": [],
   "source": [
    "pokemon1 = 'Bulbasaur'\n",
    "categories=['HP','Attack','Defense','Sp. Atk','Sp. Def','Speed']\n",
    "values1 = df[categories].loc[df['Name']==pokemon1].values.flatten().tolist()"
   ]
  },
  {
   "cell_type": "code",
   "execution_count": null,
   "id": "f638137f",
   "metadata": {},
   "outputs": [],
   "source": [
    "df['Name'][0]"
   ]
  },
  {
   "cell_type": "code",
   "execution_count": null,
   "id": "817d6c8b",
   "metadata": {},
   "outputs": [],
   "source": [
    "pokemon2 = 'Diancie'\n",
    "categories=['HP','Attack','Defense','Sp. Atk','Sp. Def','Speed']\n",
    "values2 = df[categories].loc[df['Name']==pokemon2].values.flatten().tolist()"
   ]
  },
  {
   "cell_type": "code",
   "execution_count": null,
   "id": "9874fbe6",
   "metadata": {},
   "outputs": [],
   "source": [
    "nb_pok = 3"
   ]
  },
  {
   "cell_type": "code",
   "execution_count": null,
   "id": "aed39b83",
   "metadata": {},
   "outputs": [],
   "source": [
    "pokemons=['Bulbasaur','Diancie','Charmander']"
   ]
  },
  {
   "cell_type": "code",
   "execution_count": null,
   "id": "1f0d6e11",
   "metadata": {},
   "outputs": [],
   "source": [
    "data=[]\n",
    "for i in range (len(pokemons)) :\n",
    "    pokemon = pokemons[i]\n",
    "    categories=['HP','Attack','Defense','Sp. Atk','Sp. Def','Speed']\n",
    "    values = df[categories].loc[df['Name']==pokemon].values.flatten().tolist()\n",
    "    data.append(go.Scatterpolar(r=values, theta=categories, fill='toself', name=pokemon))"
   ]
  },
  {
   "cell_type": "code",
   "execution_count": null,
   "id": "3f8b43f9",
   "metadata": {},
   "outputs": [],
   "source": [
    "fig = go.Figure(\n",
    "    data=data,\n",
    "    layout=go.Layout(\n",
    "        title=go.layout.Title(text='Pokemons stats comparison'),\n",
    "        polar={'radialaxis': {'visible': False}},\n",
    "        showlegend=True\n",
    "    )\n",
    ")\n",
    "fig.show()"
   ]
  },
  {
   "cell_type": "code",
   "execution_count": 5,
   "id": "55b8afff",
   "metadata": {
    "scrolled": true
   },
   "outputs": [
    {
     "ename": "NameError",
     "evalue": "name 'go' is not defined",
     "output_type": "error",
     "traceback": [
      "\u001b[1;31m---------------------------------------------------------------------------\u001b[0m",
      "\u001b[1;31mNameError\u001b[0m                                 Traceback (most recent call last)",
      "\u001b[1;32m~\\AppData\\Local\\Temp\\ipykernel_9784\\4241542442.py\u001b[0m in \u001b[0;36m<module>\u001b[1;34m\u001b[0m\n\u001b[1;32m----> 1\u001b[1;33m fig = go.Figure(\n\u001b[0m\u001b[0;32m      2\u001b[0m     data=[\n\u001b[0;32m      3\u001b[0m         \u001b[0mgo\u001b[0m\u001b[1;33m.\u001b[0m\u001b[0mScatterpolar\u001b[0m\u001b[1;33m(\u001b[0m\u001b[0mr\u001b[0m\u001b[1;33m=\u001b[0m\u001b[0mvalues1\u001b[0m\u001b[1;33m,\u001b[0m \u001b[0mtheta\u001b[0m\u001b[1;33m=\u001b[0m\u001b[0mcategories\u001b[0m\u001b[1;33m,\u001b[0m \u001b[0mfill\u001b[0m\u001b[1;33m=\u001b[0m\u001b[1;34m'toself'\u001b[0m\u001b[1;33m,\u001b[0m \u001b[0mname\u001b[0m\u001b[1;33m=\u001b[0m\u001b[0mpokemon1\u001b[0m\u001b[1;33m)\u001b[0m\u001b[1;33m,\u001b[0m\u001b[1;33m\u001b[0m\u001b[1;33m\u001b[0m\u001b[0m\n\u001b[0;32m      4\u001b[0m         \u001b[0mgo\u001b[0m\u001b[1;33m.\u001b[0m\u001b[0mScatterpolar\u001b[0m\u001b[1;33m(\u001b[0m\u001b[0mr\u001b[0m\u001b[1;33m=\u001b[0m\u001b[0mvalues2\u001b[0m\u001b[1;33m,\u001b[0m \u001b[0mtheta\u001b[0m\u001b[1;33m=\u001b[0m\u001b[0mcategories\u001b[0m\u001b[1;33m,\u001b[0m \u001b[0mfill\u001b[0m\u001b[1;33m=\u001b[0m\u001b[1;34m'toself'\u001b[0m\u001b[1;33m,\u001b[0m \u001b[0mname\u001b[0m\u001b[1;33m=\u001b[0m\u001b[0mpokemon2\u001b[0m\u001b[1;33m)\u001b[0m\u001b[1;33m,\u001b[0m\u001b[1;33m\u001b[0m\u001b[1;33m\u001b[0m\u001b[0m\n\u001b[0;32m      5\u001b[0m     ],\n",
      "\u001b[1;31mNameError\u001b[0m: name 'go' is not defined"
     ]
    }
   ],
   "source": [
    "fig = go.Figure(\n",
    "    data=[\n",
    "        go.Scatterpolar(r=values1, theta=categories, fill='toself', name=pokemon1),\n",
    "        go.Scatterpolar(r=values2, theta=categories, fill='toself', name=pokemon2),\n",
    "    ],\n",
    "    layout=go.Layout(\n",
    "        title=go.layout.Title(text=pokemon1+' And '+pokemon2+' stats comparison'),\n",
    "        polar={'radialaxis': {'visible': False}},\n",
    "        showlegend=True\n",
    "    )\n",
    ")\n",
    "fig.show()"
   ]
  },
  {
   "cell_type": "code",
   "execution_count": null,
   "id": "96cf8076",
   "metadata": {},
   "outputs": [],
   "source": []
  }
 ],
 "metadata": {
  "kernelspec": {
   "display_name": "Python 3 (ipykernel)",
   "language": "python",
   "name": "python3"
  },
  "language_info": {
   "codemirror_mode": {
    "name": "ipython",
    "version": 3
   },
   "file_extension": ".py",
   "mimetype": "text/x-python",
   "name": "python",
   "nbconvert_exporter": "python",
   "pygments_lexer": "ipython3",
   "version": "3.9.13"
  }
 },
 "nbformat": 4,
 "nbformat_minor": 5
}
